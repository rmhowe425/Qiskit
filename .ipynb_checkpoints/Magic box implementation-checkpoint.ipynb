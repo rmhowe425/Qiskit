{
 "cells": [
  {
   "cell_type": "code",
   "execution_count": 12,
   "metadata": {},
   "outputs": [],
   "source": [
    "#import library\n",
    "from qiskit.circuit.library import QFT\n",
    "from qiskit.extensions import UnitaryGate\n",
    "import numpy as np"
   ]
  },
  {
   "cell_type": "code",
   "execution_count": 13,
   "metadata": {},
   "outputs": [],
   "source": [
    "# In our final Jupyter notebook we won't have to\n",
    "# break things up functionally like this, but it\n",
    "# should help for now.\n",
    "\n",
    "# Verification user input to construct problem to be solved\n",
    "def verify(a,b,N):\n",
    "    return 0"
   ]
  },
  {
   "cell_type": "code",
   "execution_count": 9,
   "metadata": {},
   "outputs": [],
   "source": [
    "# Calculates the multiplicative inverse of x mod N\n",
    "# (the number y such that xy = 1 (mod N)) using\n",
    "# the extended Euclidean algorithm.\n",
    "def invert(x, N):\n",
    "    q = [0, 0]\n",
    "    r = [N, x]\n",
    "    t = [0, 1]\n",
    "\n",
    "    while r[-1] != 0:\n",
    "        q.append(r[-2]//r[-1])\n",
    "        r.append(r[-2] - (q[-1]*r[-1]))\n",
    "        t.append(t[-2] - (q[-1]*t[-1]))\n",
    "    \n",
    "    if r[-2] != 1:\n",
    "        raise Exception\n",
    "    \n",
    "    return t[-2] % N\n"
   ]
  },
  {
   "cell_type": "code",
   "execution_count": 10,
   "metadata": {},
   "outputs": [],
   "source": [
    "# Returns a unitary matrix which has the effect of multiplying each\n",
    "# input |x> by a in mod N, resulting in the state |ax>.\n",
    "def create_unitary(a, N):\n",
    "    dim = 2**int(np.ceil(np.log(N)/np.log(2)) + 1)\n",
    "    U = np.zeros((dim, dim))\n",
    "    # Generate a permutation of the multiplicative group of Z_N.\n",
    "    for i in range(int(dim/2)):\n",
    "        U[i,i] = 1\n",
    "    for i in range(N):\n",
    "        U[int(dim/2) + i, ((a*i) % N)+int(dim/2)] = 1\n",
    "    # The remaining states are irrelevant.\n",
    "    for i in range(N, int(dim/2)):\n",
    "        U[int(dim/2) + i, int(dim/2) + i] = 1\n",
    "    print(\"Multiply by\", a)\n",
    "    print(U)\n",
    "    return U"
   ]
  },
  {
   "cell_type": "code",
   "execution_count": 11,
   "metadata": {},
   "outputs": [
    {
     "ename": "IndentationError",
     "evalue": "expected an indented block (<ipython-input-11-f8c375930c57>, line 53)",
     "output_type": "error",
     "traceback": [
      "\u001b[0;36m  File \u001b[0;32m\"<ipython-input-11-f8c375930c57>\"\u001b[0;36m, line \u001b[0;32m53\u001b[0m\n\u001b[0;31m    qc.rz(-pi/2 , qr3[0])\u001b[0m\n\u001b[0m    ^\u001b[0m\n\u001b[0;31mIndentationError\u001b[0m\u001b[0;31m:\u001b[0m expected an indented block\n"
     ]
    }
   ],
   "source": [
    "# b is some power of a, and the oracle outputs m,\n",
    "# where b = a^m (mod N) with >50% probability.\n",
    "# (this is where our main algorithm goes)\n",
    "def oracle(a, b, N):\n",
    "    # Find number of bits(n) needed to store a value from 0 to N-1\n",
    "    # and initialize 2 quantum registers of size n\n",
    "    n = int(np.ceil(np.log(N)/np.log(2)))\n",
    "    qr1, qr2 = QuantumRegister(n), QuantumRegister(n)\n",
    "    cr1, cr2 = ClassicalRegister(n), ClassicalRegister(n)\n",
    "    qc = QuantumCircuit(qr1, qr2, cr1, cr2)\n",
    "    \n",
    "    #Change second register to state |00...01>\n",
    "    qc.x(qr2[n-1])\n",
    "    \n",
    "    #Add H gate to first register\n",
    "    for i in range(n):\n",
    "        qc.h(qr1[i])\n",
    "    \n",
    "    # We need log_2(n) different matrices U_(a^(2^x))\n",
    "    for i in range(n):\n",
    "        U = create_unitary(a**(2**(n-i)) % N, N)\n",
    "        qubits = [qr1[i]] + [qr2[j] for j in range(n)]\n",
    "        qc.iso(U, qubits, [])\n",
    "\n",
    "\n",
    "    qc.append(QFT(n), [qr1[i] for i in range(n)])\n",
    "\n",
    "    for i in range(n):\n",
    "        qc.measure(qr1[i], cr1[i])\n",
    "    \n",
    "    print(qc.draw(output=\"text\"))\n",
    "    \n",
    "    # Phase 2 Starts here\n",
    "    # Calculate k^-1 and find its binary representation\n",
    "    k_inv_bin = bin(invert(k, r))\n",
    "\n",
    "    # Step 1: Initialize a 1 qubit register to |0>\n",
    "    qr3 = QuantumRegister(1)\n",
    "    cr3 = ClassicalRegister(1)\n",
    "    qc.add_register(qr3)\n",
    "    qc.add_register(cr3)\n",
    "    \n",
    "    # Step 2: Add H gate to new register\n",
    "    qc.h(qr3[0])\n",
    "    \n",
    "    # Step 3: applying controlled U operation\n",
    "    for pos, bit in enumerate(k_inv_bin):\n",
    "        if(bit == '1'):\n",
    "            #apply U operation here\n",
    "    \n",
    "    # Step 4: Applying a controlled phase shift of -i to \n",
    "    # to second register\n",
    "    qc.rz(-pi/2 , qr3[0])\n",
    "    \n",
    "    # Step 5 & 6: Apply H-get to 2nd register and measure\n",
    "    qc.h(qr3[0])\n",
    "    qc.measure(qr3[0], cr3[0])\n",
    "    \n",
    "    return 0"
   ]
  },
  {
   "cell_type": "code",
   "execution_count": null,
   "metadata": {},
   "outputs": [],
   "source": [
    "# oracle(3, 1, 13)\n",
    "\n",
    "# Solves the discrete logarithm problem for \n",
    "# b = a^m (mod N) using repeated calls to the\n",
    "# oracle defined above.\n",
    "def logarithm(a, b, N):\n",
    "    return 0"
   ]
  }
 ],
 "metadata": {
  "kernelspec": {
   "display_name": "Python 3",
   "language": "python",
   "name": "python3"
  },
  "language_info": {
   "codemirror_mode": {
    "name": "ipython",
    "version": 3
   },
   "file_extension": ".py",
   "mimetype": "text/x-python",
   "name": "python",
   "nbconvert_exporter": "python",
   "pygments_lexer": "ipython3",
   "version": "3.6.5"
  }
 },
 "nbformat": 4,
 "nbformat_minor": 2
}
